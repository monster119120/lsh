{
 "cells": [
  {
   "cell_type": "markdown",
   "source": [
    "## json文件的内容格式:"
   ],
   "metadata": {
    "collapsed": false,
    "pycharm": {
     "name": "#%% md\n"
    }
   }
  },
  {
   "cell_type": "code",
   "execution_count": null,
   "outputs": [],
   "source": [
    "'''\n",
    "{\n",
    "    \"info\":\n",
    "    {\"description\": \"This is stable 1.0 version of the 2017 MS COCO dataset.\",\n",
    "     \"url\": \"http://mscoco.org\",  \"version\": \"1.0\", \"year\": 2017,\n",
    "     \"contributor\": \"Microsoft COCO group\",\n",
    "     \"date_created\": \"2017-11-11 02:11:36.777541\"\n",
    "    },\n",
    "\n",
    "    \"images\":\n",
    "    [\n",
    "        {\"license\": 2,\"file_name\": \"000000289343.jpg\",\n",
    "         \"coco_url\": \"http://images.cocodataset.org/val2017/000000289343.jpg\",\n",
    "         \"height\": 640,\"width\": 529,\"date_captured\": \"2013-11-15 00:35:14\",\n",
    "         \"flickr_url\": \"http://farm5.staticflickr.com/4029/4669549715_7db3735de0_z.jpg\",\"id\": 289343},\n",
    "        ...\n",
    "        {\"license\": 1,\"file_name\": \"000000329219.jpg\",\n",
    "         \"coco_url\": \"http://images.cocodataset.org/val2017/000000329219.jpg\",\n",
    "         \"height\": 427,\"width\": 640,\"date_captured\": \"2013-11-14 19:21:56\",\n",
    "         \"flickr_url\": \"http://farm9.staticflickr.com/8104/8505307842_465524a6a6_z.jpg\",\n",
    "         \"id\": 329219},\n",
    "        ...\n",
    "    ],\n",
    "    \"annotations\":\n",
    "    [\n",
    "        {\"segmentation\": [[510.66,423.01,511.72,420.03,510.45,416.0,510...,423.01]],\n",
    "         \"area\": 702.1057499999998,\n",
    "         \"iscrowd\": 0,\n",
    "         \"image_id\": 289343,\n",
    "         \"bbox\": [473.07,395.93,38.65,28.67], \"category_id\": 18, \"id\": 1768\n",
    "        },\n",
    "        ...\n",
    "        {\"segmentation\": [[304.09,266.18,308.95,263.56,313.06,262.81,...,266.55]],\n",
    "         \"area\": 4290.290900000001,\n",
    "         \"iscrowd\": 0,\n",
    "         \"image_id\": 329219,\n",
    "         \"bbox\": [297.73,252.34,60.21,108.45],\"category_id\": 18,\"id\": 8032}\n",
    "    ],\n",
    "\n",
    "    \"licenses\":\n",
    "    [\n",
    "        {\"url\": \"http://creativecommons.org/licenses/by-nc-sa/2.0/\",\n",
    "         \"id\": 1, \"name\": \"Attribution-NonCommercial-ShareAlike License\"},\n",
    "        ...\n",
    "        {\"url\": \"http://www.usa.gov/copyright.shtml\",\n",
    "         \"id\": 8, \"name\": \"United States Government Work\"}\n",
    "    ],\n",
    "\n",
    "    \"categories\":\n",
    "    [\n",
    "        {\"supercategory\": \"person\", \"id\": 1, \"name\": \"person\"},\n",
    "        ...\n",
    "        {\"supercategory\": \"indoor\", \"id\": 90, \"name\": \"toothbrush\"}\n",
    "    ]\n",
    "}\n",
    "'''"
   ],
   "metadata": {
    "collapsed": false,
    "pycharm": {
     "name": "#%%\n"
    }
   }
  },
  {
   "cell_type": "code",
   "execution_count": 38,
   "metadata": {
    "collapsed": true
   },
   "outputs": [
    {
     "name": "stdout",
     "output_type": "stream",
     "text": [
      "loading annotations into memory...\n",
      "Done (t=0.38s)\n",
      "creating index...\n",
      "index created!\n"
     ]
    }
   ],
   "source": [
    "import numpy as np\n",
    "from pycocotools.coco import COCO\n",
    "import json\n",
    "import os\n",
    "\n",
    "\n",
    "\n",
    "annFile = os.path.join(os.getcwd(), 'coco/annotations/instances_val2017.json')\n",
    "coco = COCO(annFile) # 初始化生成COCO对象\n",
    "\n",
    "head_index = 4"
   ]
  },
  {
   "cell_type": "code",
   "execution_count": 39,
   "outputs": [
    {
     "name": "stdout",
     "output_type": "stream",
     "text": [
      "[1, 2, 3, 4]\n"
     ]
    }
   ],
   "source": [
    "category_index = coco.getCatIds()   # 获得类别\n",
    "print(category_index[:head_index])"
   ],
   "metadata": {
    "collapsed": false,
    "pycharm": {
     "name": "#%%\n"
    }
   }
  },
  {
   "cell_type": "code",
   "execution_count": 40,
   "outputs": [
    {
     "data": {
      "text/plain": "[{'supercategory': 'person', 'id': 1, 'name': 'person'},\n {'supercategory': 'vehicle', 'id': 2, 'name': 'bicycle'},\n {'supercategory': 'vehicle', 'id': 3, 'name': 'car'},\n {'supercategory': 'vehicle', 'id': 4, 'name': 'motorcycle'}]"
     },
     "execution_count": 40,
     "metadata": {},
     "output_type": "execute_result"
    }
   ],
   "source": [
    "category_info = coco.loadCats(category_index)  # 获得类别对应的类名\n",
    "category_info[:head_index]"
   ],
   "metadata": {
    "collapsed": false,
    "pycharm": {
     "name": "#%%\n"
    }
   }
  },
  {
   "cell_type": "code",
   "execution_count": 41,
   "outputs": [
    {
     "name": "stdout",
     "output_type": "stream",
     "text": [
      "['person', 'bicycle', 'car', 'motorcycle']\n"
     ]
    }
   ],
   "source": [
    "category_name = [cat['name']  for cat in category_info]\n",
    "print(category_name[:head_index])"
   ],
   "metadata": {
    "collapsed": false,
    "pycharm": {
     "name": "#%%\n"
    }
   }
  },
  {
   "cell_type": "markdown",
   "source": [
    "## 根据类别，查找包含该类别的图片"
   ],
   "metadata": {
    "collapsed": false,
    "pycharm": {
     "name": "#%% md\n"
    }
   }
  },
  {
   "cell_type": "code",
   "execution_count": 42,
   "outputs": [
    {
     "name": "stdout",
     "output_type": "stream",
     "text": [
      "[184324, 546823, 343561, 169996]\n"
     ]
    }
   ],
   "source": [
    "imgIds = coco.getImgIds(catIds=[1, 2])\n",
    "print(imgIds[:head_index])"
   ],
   "metadata": {
    "collapsed": false,
    "pycharm": {
     "name": "#%%\n"
    }
   }
  },
  {
   "cell_type": "code",
   "execution_count": 43,
   "outputs": [
    {
     "name": "stdout",
     "output_type": "stream",
     "text": [
      "[{'license': 3, 'file_name': '000000059635.jpg', 'coco_url': 'http://images.cocodataset.org/val2017/000000059635.jpg', 'height': 640, 'width': 486, 'date_captured': '2013-11-20 23:25:37', 'flickr_url': 'http://farm3.staticflickr.com/2284/5735274038_49d33e32cf_z.jpg', 'id': 59635}]\n"
     ]
    }
   ],
   "source": [
    "img_info = coco.loadImgs(imgIds[np.random.randint(0, len(imgIds))])\n",
    "print(img_info[:head_index])"
   ],
   "metadata": {
    "collapsed": false,
    "pycharm": {
     "name": "#%%\n"
    }
   }
  },
  {
   "cell_type": "code",
   "execution_count": 44,
   "outputs": [
    {
     "name": "stdout",
     "output_type": "stream",
     "text": [
      "loading annotations into memory...\n",
      "Done (t=0.84s)\n",
      "creating index...\n",
      "index created!\n"
     ]
    }
   ],
   "source": [
    "from helper_functions import CocoDetection\n",
    "\n"
   ],
   "metadata": {
    "collapsed": false,
    "pycharm": {
     "name": "#%%\n"
    }
   }
  },
  {
   "cell_type": "code",
   "execution_count": null,
   "outputs": [],
   "source": [],
   "metadata": {
    "collapsed": false,
    "pycharm": {
     "name": "#%%\n"
    }
   }
  }
 ],
 "metadata": {
  "kernelspec": {
   "display_name": "Python 3",
   "language": "python",
   "name": "python3"
  },
  "language_info": {
   "codemirror_mode": {
    "name": "ipython",
    "version": 2
   },
   "file_extension": ".py",
   "mimetype": "text/x-python",
   "name": "python",
   "nbconvert_exporter": "python",
   "pygments_lexer": "ipython2",
   "version": "2.7.6"
  }
 },
 "nbformat": 4,
 "nbformat_minor": 0
}